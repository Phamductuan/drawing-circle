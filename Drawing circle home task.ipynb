{
 "cells": [
  {
   "cell_type": "code",
   "execution_count": null,
   "id": "2e855506",
   "metadata": {},
   "outputs": [],
   "source": [
    "import turtle\n",
    "t = turtle. Turtle()\n",
    "t.pensize(5)\n",
    "t.pencolor('red')\n",
    "t.fillcolor('blue')\n",
    "t.begin_fill()\n",
    "t.circle(100)\n",
    "t.end_fill()\n",
    "turtle.done\n",
    "turtle.mainloop()"
   ]
  },
  {
   "cell_type": "code",
   "execution_count": null,
   "id": "390e9c0c",
   "metadata": {},
   "outputs": [],
   "source": []
  }
 ],
 "metadata": {
  "kernelspec": {
   "display_name": "Python 3 (ipykernel)",
   "language": "python",
   "name": "python3"
  },
  "language_info": {
   "codemirror_mode": {
    "name": "ipython",
    "version": 3
   },
   "file_extension": ".py",
   "mimetype": "text/x-python",
   "name": "python",
   "nbconvert_exporter": "python",
   "pygments_lexer": "ipython3",
   "version": "3.9.6"
  }
 },
 "nbformat": 4,
 "nbformat_minor": 5
}
